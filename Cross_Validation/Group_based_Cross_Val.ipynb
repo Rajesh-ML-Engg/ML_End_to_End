{
 "cells": [
  {
   "cell_type": "markdown",
   "metadata": {},
   "source": [
    "## **``GroupedKFold``**\n",
    "##### **It is the version of KFold which makes sure that same group(i.e. more than one group can be present in the test set) is not present in both training ans testing sets.**"
   ]
  },
  {
   "cell_type": "code",
   "execution_count": 10,
   "metadata": {},
   "outputs": [],
   "source": [
    "import numpy as np\n",
    "import pandas as pd"
   ]
  },
  {
   "cell_type": "code",
   "execution_count": 11,
   "metadata": {},
   "outputs": [],
   "source": [
    "from sklearn.model_selection import GroupKFold"
   ]
  },
  {
   "cell_type": "code",
   "execution_count": 12,
   "metadata": {},
   "outputs": [],
   "source": [
    "gkf = GroupKFold(n_splits=3)"
   ]
  },
  {
   "cell_type": "code",
   "execution_count": 13,
   "metadata": {},
   "outputs": [],
   "source": [
    "df = pd.DataFrame({'col1':['Sachin','Rahul','Saurav','Virat','Dhoni','Hayden','Zaheer','Sreeshanth','Bumrah','Kumble'],\n",
    "                   'col2':['Steve','Ricky','Lara','Klusner','Warne','Donald','Mcgrath','Kasprowiz','Pollock','Steyn'],\n",
    "              'Label':['Opener','Opener','Opener','Non-Opener','Non-Opener','Non-Opener','Non-Opener','Non-Opener','Non-Opener','Non-Opener'],\n",
    "                   'Group':['All rounder','Batsmen','Batsmen','All rounder','All rounder','All rounder','Bowler','Bowler','Bowler','Bowler']})"
   ]
  },
  {
   "cell_type": "code",
   "execution_count": 14,
   "metadata": {},
   "outputs": [
    {
     "data": {
      "text/html": [
       "<div>\n",
       "<style scoped>\n",
       "    .dataframe tbody tr th:only-of-type {\n",
       "        vertical-align: middle;\n",
       "    }\n",
       "\n",
       "    .dataframe tbody tr th {\n",
       "        vertical-align: top;\n",
       "    }\n",
       "\n",
       "    .dataframe thead th {\n",
       "        text-align: right;\n",
       "    }\n",
       "</style>\n",
       "<table border=\"1\" class=\"dataframe\">\n",
       "  <thead>\n",
       "    <tr style=\"text-align: right;\">\n",
       "      <th></th>\n",
       "      <th>col1</th>\n",
       "      <th>col2</th>\n",
       "      <th>Label</th>\n",
       "      <th>Group</th>\n",
       "    </tr>\n",
       "  </thead>\n",
       "  <tbody>\n",
       "    <tr>\n",
       "      <th>0</th>\n",
       "      <td>Sachin</td>\n",
       "      <td>Steve</td>\n",
       "      <td>Opener</td>\n",
       "      <td>All rounder</td>\n",
       "    </tr>\n",
       "    <tr>\n",
       "      <th>1</th>\n",
       "      <td>Rahul</td>\n",
       "      <td>Ricky</td>\n",
       "      <td>Opener</td>\n",
       "      <td>Batsmen</td>\n",
       "    </tr>\n",
       "    <tr>\n",
       "      <th>2</th>\n",
       "      <td>Saurav</td>\n",
       "      <td>Lara</td>\n",
       "      <td>Opener</td>\n",
       "      <td>Batsmen</td>\n",
       "    </tr>\n",
       "    <tr>\n",
       "      <th>3</th>\n",
       "      <td>Virat</td>\n",
       "      <td>Klusner</td>\n",
       "      <td>Non-Opener</td>\n",
       "      <td>All rounder</td>\n",
       "    </tr>\n",
       "    <tr>\n",
       "      <th>4</th>\n",
       "      <td>Dhoni</td>\n",
       "      <td>Warne</td>\n",
       "      <td>Non-Opener</td>\n",
       "      <td>All rounder</td>\n",
       "    </tr>\n",
       "    <tr>\n",
       "      <th>5</th>\n",
       "      <td>Hayden</td>\n",
       "      <td>Donald</td>\n",
       "      <td>Non-Opener</td>\n",
       "      <td>All rounder</td>\n",
       "    </tr>\n",
       "    <tr>\n",
       "      <th>6</th>\n",
       "      <td>Zaheer</td>\n",
       "      <td>Mcgrath</td>\n",
       "      <td>Non-Opener</td>\n",
       "      <td>Bowler</td>\n",
       "    </tr>\n",
       "    <tr>\n",
       "      <th>7</th>\n",
       "      <td>Sreeshanth</td>\n",
       "      <td>Kasprowiz</td>\n",
       "      <td>Non-Opener</td>\n",
       "      <td>Bowler</td>\n",
       "    </tr>\n",
       "    <tr>\n",
       "      <th>8</th>\n",
       "      <td>Bumrah</td>\n",
       "      <td>Pollock</td>\n",
       "      <td>Non-Opener</td>\n",
       "      <td>Bowler</td>\n",
       "    </tr>\n",
       "    <tr>\n",
       "      <th>9</th>\n",
       "      <td>Kumble</td>\n",
       "      <td>Steyn</td>\n",
       "      <td>Non-Opener</td>\n",
       "      <td>Bowler</td>\n",
       "    </tr>\n",
       "  </tbody>\n",
       "</table>\n",
       "</div>"
      ],
      "text/plain": [
       "         col1       col2       Label        Group\n",
       "0      Sachin      Steve      Opener  All rounder\n",
       "1       Rahul      Ricky      Opener      Batsmen\n",
       "2      Saurav       Lara      Opener      Batsmen\n",
       "3       Virat    Klusner  Non-Opener  All rounder\n",
       "4       Dhoni      Warne  Non-Opener  All rounder\n",
       "5      Hayden     Donald  Non-Opener  All rounder\n",
       "6      Zaheer    Mcgrath  Non-Opener       Bowler\n",
       "7  Sreeshanth  Kasprowiz  Non-Opener       Bowler\n",
       "8      Bumrah    Pollock  Non-Opener       Bowler\n",
       "9      Kumble      Steyn  Non-Opener       Bowler"
      ]
     },
     "execution_count": 14,
     "metadata": {},
     "output_type": "execute_result"
    }
   ],
   "source": [
    "df"
   ]
  },
  {
   "cell_type": "code",
   "execution_count": 17,
   "metadata": {},
   "outputs": [],
   "source": [
    "X=df[['col1','col2']]\n",
    "y=df['Label']"
   ]
  },
  {
   "cell_type": "code",
   "execution_count": 35,
   "metadata": {},
   "outputs": [
    {
     "name": "stdout",
     "output_type": "stream",
     "text": [
      "[0 1 2 3 4 5]\n",
      "[6 7 8 9]\n",
      "[1 2 6 7 8 9]\n",
      "[0 3 4 5]\n",
      "[0 3 4 5 6 7 8 9]\n",
      "[1 2]\n"
     ]
    }
   ],
   "source": [
    "for train , test in gkf.split(X=df[['col1','col2']],y=df['Label'],groups=df['Group']):\n",
    "    print(train)\n",
    "    print(test)"
   ]
  },
  {
   "cell_type": "code",
   "execution_count": 19,
   "metadata": {},
   "outputs": [],
   "source": [
    "for train , test in gkf.split(X=df[['col1','col2']],y=df['Label'],groups=df['Group']):\n",
    "    X_train , X_test = X.iloc[train] , X.iloc[test]\n",
    "    y_train, y_test = y.iloc[train] , y.iloc[test]"
   ]
  },
  {
   "cell_type": "code",
   "execution_count": 20,
   "metadata": {},
   "outputs": [
    {
     "data": {
      "text/html": [
       "<div>\n",
       "<style scoped>\n",
       "    .dataframe tbody tr th:only-of-type {\n",
       "        vertical-align: middle;\n",
       "    }\n",
       "\n",
       "    .dataframe tbody tr th {\n",
       "        vertical-align: top;\n",
       "    }\n",
       "\n",
       "    .dataframe thead th {\n",
       "        text-align: right;\n",
       "    }\n",
       "</style>\n",
       "<table border=\"1\" class=\"dataframe\">\n",
       "  <thead>\n",
       "    <tr style=\"text-align: right;\">\n",
       "      <th></th>\n",
       "      <th>col1</th>\n",
       "      <th>col2</th>\n",
       "    </tr>\n",
       "  </thead>\n",
       "  <tbody>\n",
       "    <tr>\n",
       "      <th>0</th>\n",
       "      <td>Sachin</td>\n",
       "      <td>Steve</td>\n",
       "    </tr>\n",
       "    <tr>\n",
       "      <th>3</th>\n",
       "      <td>Virat</td>\n",
       "      <td>Klusner</td>\n",
       "    </tr>\n",
       "    <tr>\n",
       "      <th>4</th>\n",
       "      <td>Dhoni</td>\n",
       "      <td>Warne</td>\n",
       "    </tr>\n",
       "    <tr>\n",
       "      <th>5</th>\n",
       "      <td>Hayden</td>\n",
       "      <td>Donald</td>\n",
       "    </tr>\n",
       "    <tr>\n",
       "      <th>6</th>\n",
       "      <td>Zaheer</td>\n",
       "      <td>Mcgrath</td>\n",
       "    </tr>\n",
       "    <tr>\n",
       "      <th>7</th>\n",
       "      <td>Sreeshanth</td>\n",
       "      <td>Kasprowiz</td>\n",
       "    </tr>\n",
       "    <tr>\n",
       "      <th>8</th>\n",
       "      <td>Bumrah</td>\n",
       "      <td>Pollock</td>\n",
       "    </tr>\n",
       "    <tr>\n",
       "      <th>9</th>\n",
       "      <td>Kumble</td>\n",
       "      <td>Steyn</td>\n",
       "    </tr>\n",
       "  </tbody>\n",
       "</table>\n",
       "</div>"
      ],
      "text/plain": [
       "         col1       col2\n",
       "0      Sachin      Steve\n",
       "3       Virat    Klusner\n",
       "4       Dhoni      Warne\n",
       "5      Hayden     Donald\n",
       "6      Zaheer    Mcgrath\n",
       "7  Sreeshanth  Kasprowiz\n",
       "8      Bumrah    Pollock\n",
       "9      Kumble      Steyn"
      ]
     },
     "execution_count": 20,
     "metadata": {},
     "output_type": "execute_result"
    }
   ],
   "source": [
    "X_train"
   ]
  },
  {
   "cell_type": "code",
   "execution_count": 21,
   "metadata": {},
   "outputs": [
    {
     "data": {
      "text/html": [
       "<div>\n",
       "<style scoped>\n",
       "    .dataframe tbody tr th:only-of-type {\n",
       "        vertical-align: middle;\n",
       "    }\n",
       "\n",
       "    .dataframe tbody tr th {\n",
       "        vertical-align: top;\n",
       "    }\n",
       "\n",
       "    .dataframe thead th {\n",
       "        text-align: right;\n",
       "    }\n",
       "</style>\n",
       "<table border=\"1\" class=\"dataframe\">\n",
       "  <thead>\n",
       "    <tr style=\"text-align: right;\">\n",
       "      <th></th>\n",
       "      <th>col1</th>\n",
       "      <th>col2</th>\n",
       "    </tr>\n",
       "  </thead>\n",
       "  <tbody>\n",
       "    <tr>\n",
       "      <th>1</th>\n",
       "      <td>Rahul</td>\n",
       "      <td>Ricky</td>\n",
       "    </tr>\n",
       "    <tr>\n",
       "      <th>2</th>\n",
       "      <td>Saurav</td>\n",
       "      <td>Lara</td>\n",
       "    </tr>\n",
       "  </tbody>\n",
       "</table>\n",
       "</div>"
      ],
      "text/plain": [
       "     col1   col2\n",
       "1   Rahul  Ricky\n",
       "2  Saurav   Lara"
      ]
     },
     "execution_count": 21,
     "metadata": {},
     "output_type": "execute_result"
    }
   ],
   "source": [
    "X_test"
   ]
  },
  {
   "cell_type": "code",
   "execution_count": 22,
   "metadata": {},
   "outputs": [
    {
     "data": {
      "text/plain": [
       "0        Opener\n",
       "3    Non-Opener\n",
       "4    Non-Opener\n",
       "5    Non-Opener\n",
       "6    Non-Opener\n",
       "7    Non-Opener\n",
       "8    Non-Opener\n",
       "9    Non-Opener\n",
       "Name: Label, dtype: object"
      ]
     },
     "execution_count": 22,
     "metadata": {},
     "output_type": "execute_result"
    }
   ],
   "source": [
    "y_train"
   ]
  },
  {
   "cell_type": "code",
   "execution_count": 23,
   "metadata": {},
   "outputs": [
    {
     "data": {
      "text/plain": [
       "1    Opener\n",
       "2    Opener\n",
       "Name: Label, dtype: object"
      ]
     },
     "execution_count": 23,
     "metadata": {},
     "output_type": "execute_result"
    }
   ],
   "source": [
    "y_test"
   ]
  },
  {
   "cell_type": "markdown",
   "metadata": {},
   "source": [
    "## **``LeaveOneGroupOut``**\n",
    "##### **It make sures that one group is not present in the training set.**"
   ]
  },
  {
   "cell_type": "code",
   "execution_count": 24,
   "metadata": {},
   "outputs": [],
   "source": [
    "from sklearn.model_selection import LeaveOneGroupOut"
   ]
  },
  {
   "cell_type": "code",
   "execution_count": 25,
   "metadata": {},
   "outputs": [],
   "source": [
    "logo = LeaveOneGroupOut()"
   ]
  },
  {
   "cell_type": "code",
   "execution_count": 26,
   "metadata": {},
   "outputs": [
    {
     "data": {
      "text/html": [
       "<div>\n",
       "<style scoped>\n",
       "    .dataframe tbody tr th:only-of-type {\n",
       "        vertical-align: middle;\n",
       "    }\n",
       "\n",
       "    .dataframe tbody tr th {\n",
       "        vertical-align: top;\n",
       "    }\n",
       "\n",
       "    .dataframe thead th {\n",
       "        text-align: right;\n",
       "    }\n",
       "</style>\n",
       "<table border=\"1\" class=\"dataframe\">\n",
       "  <thead>\n",
       "    <tr style=\"text-align: right;\">\n",
       "      <th></th>\n",
       "      <th>col1</th>\n",
       "      <th>col2</th>\n",
       "      <th>Label</th>\n",
       "      <th>Group</th>\n",
       "    </tr>\n",
       "  </thead>\n",
       "  <tbody>\n",
       "    <tr>\n",
       "      <th>0</th>\n",
       "      <td>Sachin</td>\n",
       "      <td>Steve</td>\n",
       "      <td>Opener</td>\n",
       "      <td>All rounder</td>\n",
       "    </tr>\n",
       "    <tr>\n",
       "      <th>1</th>\n",
       "      <td>Rahul</td>\n",
       "      <td>Ricky</td>\n",
       "      <td>Opener</td>\n",
       "      <td>Batsmen</td>\n",
       "    </tr>\n",
       "    <tr>\n",
       "      <th>2</th>\n",
       "      <td>Saurav</td>\n",
       "      <td>Lara</td>\n",
       "      <td>Opener</td>\n",
       "      <td>Batsmen</td>\n",
       "    </tr>\n",
       "    <tr>\n",
       "      <th>3</th>\n",
       "      <td>Virat</td>\n",
       "      <td>Klusner</td>\n",
       "      <td>Non-Opener</td>\n",
       "      <td>All rounder</td>\n",
       "    </tr>\n",
       "    <tr>\n",
       "      <th>4</th>\n",
       "      <td>Dhoni</td>\n",
       "      <td>Warne</td>\n",
       "      <td>Non-Opener</td>\n",
       "      <td>All rounder</td>\n",
       "    </tr>\n",
       "    <tr>\n",
       "      <th>5</th>\n",
       "      <td>Hayden</td>\n",
       "      <td>Donald</td>\n",
       "      <td>Non-Opener</td>\n",
       "      <td>All rounder</td>\n",
       "    </tr>\n",
       "    <tr>\n",
       "      <th>6</th>\n",
       "      <td>Zaheer</td>\n",
       "      <td>Mcgrath</td>\n",
       "      <td>Non-Opener</td>\n",
       "      <td>Bowler</td>\n",
       "    </tr>\n",
       "    <tr>\n",
       "      <th>7</th>\n",
       "      <td>Sreeshanth</td>\n",
       "      <td>Kasprowiz</td>\n",
       "      <td>Non-Opener</td>\n",
       "      <td>Bowler</td>\n",
       "    </tr>\n",
       "    <tr>\n",
       "      <th>8</th>\n",
       "      <td>Bumrah</td>\n",
       "      <td>Pollock</td>\n",
       "      <td>Non-Opener</td>\n",
       "      <td>Bowler</td>\n",
       "    </tr>\n",
       "    <tr>\n",
       "      <th>9</th>\n",
       "      <td>Kumble</td>\n",
       "      <td>Steyn</td>\n",
       "      <td>Non-Opener</td>\n",
       "      <td>Bowler</td>\n",
       "    </tr>\n",
       "  </tbody>\n",
       "</table>\n",
       "</div>"
      ],
      "text/plain": [
       "         col1       col2       Label        Group\n",
       "0      Sachin      Steve      Opener  All rounder\n",
       "1       Rahul      Ricky      Opener      Batsmen\n",
       "2      Saurav       Lara      Opener      Batsmen\n",
       "3       Virat    Klusner  Non-Opener  All rounder\n",
       "4       Dhoni      Warne  Non-Opener  All rounder\n",
       "5      Hayden     Donald  Non-Opener  All rounder\n",
       "6      Zaheer    Mcgrath  Non-Opener       Bowler\n",
       "7  Sreeshanth  Kasprowiz  Non-Opener       Bowler\n",
       "8      Bumrah    Pollock  Non-Opener       Bowler\n",
       "9      Kumble      Steyn  Non-Opener       Bowler"
      ]
     },
     "execution_count": 26,
     "metadata": {},
     "output_type": "execute_result"
    }
   ],
   "source": [
    "df"
   ]
  },
  {
   "cell_type": "code",
   "execution_count": 34,
   "metadata": {},
   "outputs": [
    {
     "name": "stdout",
     "output_type": "stream",
     "text": [
      "[1 2 6 7 8 9]\n",
      "[0 3 4 5]\n",
      "[0 3 4 5 6 7 8 9]\n",
      "[1 2]\n",
      "[0 1 2 3 4 5]\n",
      "[6 7 8 9]\n"
     ]
    }
   ],
   "source": [
    "for train , test in logo.split(X=df[['col1','col2']],y=df['Label'],groups=df['Group']):\n",
    "    print(train)\n",
    "    print(test)"
   ]
  },
  {
   "cell_type": "code",
   "execution_count": 29,
   "metadata": {},
   "outputs": [],
   "source": [
    "for train , test in logo.split(X=df[['col1','col2']],y=df['Label'],groups=df['Group']):\n",
    "    X_train , X_test = X.iloc[train] , X.iloc[test]\n",
    "    y_train , y_test = y.iloc[train] , y.iloc[test]"
   ]
  },
  {
   "cell_type": "code",
   "execution_count": 30,
   "metadata": {},
   "outputs": [
    {
     "data": {
      "text/html": [
       "<div>\n",
       "<style scoped>\n",
       "    .dataframe tbody tr th:only-of-type {\n",
       "        vertical-align: middle;\n",
       "    }\n",
       "\n",
       "    .dataframe tbody tr th {\n",
       "        vertical-align: top;\n",
       "    }\n",
       "\n",
       "    .dataframe thead th {\n",
       "        text-align: right;\n",
       "    }\n",
       "</style>\n",
       "<table border=\"1\" class=\"dataframe\">\n",
       "  <thead>\n",
       "    <tr style=\"text-align: right;\">\n",
       "      <th></th>\n",
       "      <th>col1</th>\n",
       "      <th>col2</th>\n",
       "    </tr>\n",
       "  </thead>\n",
       "  <tbody>\n",
       "    <tr>\n",
       "      <th>0</th>\n",
       "      <td>Sachin</td>\n",
       "      <td>Steve</td>\n",
       "    </tr>\n",
       "    <tr>\n",
       "      <th>1</th>\n",
       "      <td>Rahul</td>\n",
       "      <td>Ricky</td>\n",
       "    </tr>\n",
       "    <tr>\n",
       "      <th>2</th>\n",
       "      <td>Saurav</td>\n",
       "      <td>Lara</td>\n",
       "    </tr>\n",
       "    <tr>\n",
       "      <th>3</th>\n",
       "      <td>Virat</td>\n",
       "      <td>Klusner</td>\n",
       "    </tr>\n",
       "    <tr>\n",
       "      <th>4</th>\n",
       "      <td>Dhoni</td>\n",
       "      <td>Warne</td>\n",
       "    </tr>\n",
       "    <tr>\n",
       "      <th>5</th>\n",
       "      <td>Hayden</td>\n",
       "      <td>Donald</td>\n",
       "    </tr>\n",
       "  </tbody>\n",
       "</table>\n",
       "</div>"
      ],
      "text/plain": [
       "     col1     col2\n",
       "0  Sachin    Steve\n",
       "1   Rahul    Ricky\n",
       "2  Saurav     Lara\n",
       "3   Virat  Klusner\n",
       "4   Dhoni    Warne\n",
       "5  Hayden   Donald"
      ]
     },
     "execution_count": 30,
     "metadata": {},
     "output_type": "execute_result"
    }
   ],
   "source": [
    "X_train"
   ]
  },
  {
   "cell_type": "code",
   "execution_count": 31,
   "metadata": {},
   "outputs": [
    {
     "data": {
      "text/html": [
       "<div>\n",
       "<style scoped>\n",
       "    .dataframe tbody tr th:only-of-type {\n",
       "        vertical-align: middle;\n",
       "    }\n",
       "\n",
       "    .dataframe tbody tr th {\n",
       "        vertical-align: top;\n",
       "    }\n",
       "\n",
       "    .dataframe thead th {\n",
       "        text-align: right;\n",
       "    }\n",
       "</style>\n",
       "<table border=\"1\" class=\"dataframe\">\n",
       "  <thead>\n",
       "    <tr style=\"text-align: right;\">\n",
       "      <th></th>\n",
       "      <th>col1</th>\n",
       "      <th>col2</th>\n",
       "    </tr>\n",
       "  </thead>\n",
       "  <tbody>\n",
       "    <tr>\n",
       "      <th>6</th>\n",
       "      <td>Zaheer</td>\n",
       "      <td>Mcgrath</td>\n",
       "    </tr>\n",
       "    <tr>\n",
       "      <th>7</th>\n",
       "      <td>Sreeshanth</td>\n",
       "      <td>Kasprowiz</td>\n",
       "    </tr>\n",
       "    <tr>\n",
       "      <th>8</th>\n",
       "      <td>Bumrah</td>\n",
       "      <td>Pollock</td>\n",
       "    </tr>\n",
       "    <tr>\n",
       "      <th>9</th>\n",
       "      <td>Kumble</td>\n",
       "      <td>Steyn</td>\n",
       "    </tr>\n",
       "  </tbody>\n",
       "</table>\n",
       "</div>"
      ],
      "text/plain": [
       "         col1       col2\n",
       "6      Zaheer    Mcgrath\n",
       "7  Sreeshanth  Kasprowiz\n",
       "8      Bumrah    Pollock\n",
       "9      Kumble      Steyn"
      ]
     },
     "execution_count": 31,
     "metadata": {},
     "output_type": "execute_result"
    }
   ],
   "source": [
    "X_test"
   ]
  },
  {
   "cell_type": "code",
   "execution_count": 32,
   "metadata": {},
   "outputs": [
    {
     "data": {
      "text/plain": [
       "0        Opener\n",
       "1        Opener\n",
       "2        Opener\n",
       "3    Non-Opener\n",
       "4    Non-Opener\n",
       "5    Non-Opener\n",
       "Name: Label, dtype: object"
      ]
     },
     "execution_count": 32,
     "metadata": {},
     "output_type": "execute_result"
    }
   ],
   "source": [
    "y_train"
   ]
  },
  {
   "cell_type": "code",
   "execution_count": 33,
   "metadata": {},
   "outputs": [
    {
     "data": {
      "text/plain": [
       "6    Non-Opener\n",
       "7    Non-Opener\n",
       "8    Non-Opener\n",
       "9    Non-Opener\n",
       "Name: Label, dtype: object"
      ]
     },
     "execution_count": 33,
     "metadata": {},
     "output_type": "execute_result"
    }
   ],
   "source": [
    "y_test"
   ]
  },
  {
   "cell_type": "code",
   "execution_count": 36,
   "metadata": {},
   "outputs": [
    {
     "data": {
      "text/html": [
       "<div>\n",
       "<style scoped>\n",
       "    .dataframe tbody tr th:only-of-type {\n",
       "        vertical-align: middle;\n",
       "    }\n",
       "\n",
       "    .dataframe tbody tr th {\n",
       "        vertical-align: top;\n",
       "    }\n",
       "\n",
       "    .dataframe thead th {\n",
       "        text-align: right;\n",
       "    }\n",
       "</style>\n",
       "<table border=\"1\" class=\"dataframe\">\n",
       "  <thead>\n",
       "    <tr style=\"text-align: right;\">\n",
       "      <th></th>\n",
       "      <th>col1</th>\n",
       "      <th>col2</th>\n",
       "      <th>Label</th>\n",
       "      <th>Group</th>\n",
       "    </tr>\n",
       "  </thead>\n",
       "  <tbody>\n",
       "    <tr>\n",
       "      <th>0</th>\n",
       "      <td>Sachin</td>\n",
       "      <td>Steve</td>\n",
       "      <td>Opener</td>\n",
       "      <td>All rounder</td>\n",
       "    </tr>\n",
       "    <tr>\n",
       "      <th>1</th>\n",
       "      <td>Rahul</td>\n",
       "      <td>Ricky</td>\n",
       "      <td>Opener</td>\n",
       "      <td>Batsmen</td>\n",
       "    </tr>\n",
       "    <tr>\n",
       "      <th>2</th>\n",
       "      <td>Saurav</td>\n",
       "      <td>Lara</td>\n",
       "      <td>Opener</td>\n",
       "      <td>Batsmen</td>\n",
       "    </tr>\n",
       "    <tr>\n",
       "      <th>3</th>\n",
       "      <td>Virat</td>\n",
       "      <td>Klusner</td>\n",
       "      <td>Non-Opener</td>\n",
       "      <td>All rounder</td>\n",
       "    </tr>\n",
       "    <tr>\n",
       "      <th>4</th>\n",
       "      <td>Dhoni</td>\n",
       "      <td>Warne</td>\n",
       "      <td>Non-Opener</td>\n",
       "      <td>All rounder</td>\n",
       "    </tr>\n",
       "    <tr>\n",
       "      <th>5</th>\n",
       "      <td>Hayden</td>\n",
       "      <td>Donald</td>\n",
       "      <td>Non-Opener</td>\n",
       "      <td>All rounder</td>\n",
       "    </tr>\n",
       "    <tr>\n",
       "      <th>6</th>\n",
       "      <td>Zaheer</td>\n",
       "      <td>Mcgrath</td>\n",
       "      <td>Non-Opener</td>\n",
       "      <td>Bowler</td>\n",
       "    </tr>\n",
       "    <tr>\n",
       "      <th>7</th>\n",
       "      <td>Sreeshanth</td>\n",
       "      <td>Kasprowiz</td>\n",
       "      <td>Non-Opener</td>\n",
       "      <td>Bowler</td>\n",
       "    </tr>\n",
       "    <tr>\n",
       "      <th>8</th>\n",
       "      <td>Bumrah</td>\n",
       "      <td>Pollock</td>\n",
       "      <td>Non-Opener</td>\n",
       "      <td>Bowler</td>\n",
       "    </tr>\n",
       "    <tr>\n",
       "      <th>9</th>\n",
       "      <td>Kumble</td>\n",
       "      <td>Steyn</td>\n",
       "      <td>Non-Opener</td>\n",
       "      <td>Bowler</td>\n",
       "    </tr>\n",
       "  </tbody>\n",
       "</table>\n",
       "</div>"
      ],
      "text/plain": [
       "         col1       col2       Label        Group\n",
       "0      Sachin      Steve      Opener  All rounder\n",
       "1       Rahul      Ricky      Opener      Batsmen\n",
       "2      Saurav       Lara      Opener      Batsmen\n",
       "3       Virat    Klusner  Non-Opener  All rounder\n",
       "4       Dhoni      Warne  Non-Opener  All rounder\n",
       "5      Hayden     Donald  Non-Opener  All rounder\n",
       "6      Zaheer    Mcgrath  Non-Opener       Bowler\n",
       "7  Sreeshanth  Kasprowiz  Non-Opener       Bowler\n",
       "8      Bumrah    Pollock  Non-Opener       Bowler\n",
       "9      Kumble      Steyn  Non-Opener       Bowler"
      ]
     },
     "execution_count": 36,
     "metadata": {},
     "output_type": "execute_result"
    }
   ],
   "source": [
    "df"
   ]
  },
  {
   "cell_type": "markdown",
   "metadata": {},
   "source": [
    "#### **Difference b/w GroupKFold and LeaveOneGroupOut**"
   ]
  },
  {
   "cell_type": "code",
   "execution_count": 37,
   "metadata": {},
   "outputs": [],
   "source": [
    "logo_grp = [0,0,1,1,2,2,2,3,3,3]"
   ]
  },
  {
   "cell_type": "code",
   "execution_count": 41,
   "metadata": {},
   "outputs": [],
   "source": [
    "df['new_logo'] = logo_grp"
   ]
  },
  {
   "cell_type": "code",
   "execution_count": 42,
   "metadata": {},
   "outputs": [
    {
     "data": {
      "text/html": [
       "<div>\n",
       "<style scoped>\n",
       "    .dataframe tbody tr th:only-of-type {\n",
       "        vertical-align: middle;\n",
       "    }\n",
       "\n",
       "    .dataframe tbody tr th {\n",
       "        vertical-align: top;\n",
       "    }\n",
       "\n",
       "    .dataframe thead th {\n",
       "        text-align: right;\n",
       "    }\n",
       "</style>\n",
       "<table border=\"1\" class=\"dataframe\">\n",
       "  <thead>\n",
       "    <tr style=\"text-align: right;\">\n",
       "      <th></th>\n",
       "      <th>col1</th>\n",
       "      <th>col2</th>\n",
       "      <th>Label</th>\n",
       "      <th>Group</th>\n",
       "      <th>new_logo</th>\n",
       "    </tr>\n",
       "  </thead>\n",
       "  <tbody>\n",
       "    <tr>\n",
       "      <th>0</th>\n",
       "      <td>Sachin</td>\n",
       "      <td>Steve</td>\n",
       "      <td>Opener</td>\n",
       "      <td>All rounder</td>\n",
       "      <td>0</td>\n",
       "    </tr>\n",
       "    <tr>\n",
       "      <th>1</th>\n",
       "      <td>Rahul</td>\n",
       "      <td>Ricky</td>\n",
       "      <td>Opener</td>\n",
       "      <td>Batsmen</td>\n",
       "      <td>0</td>\n",
       "    </tr>\n",
       "    <tr>\n",
       "      <th>2</th>\n",
       "      <td>Saurav</td>\n",
       "      <td>Lara</td>\n",
       "      <td>Opener</td>\n",
       "      <td>Batsmen</td>\n",
       "      <td>1</td>\n",
       "    </tr>\n",
       "    <tr>\n",
       "      <th>3</th>\n",
       "      <td>Virat</td>\n",
       "      <td>Klusner</td>\n",
       "      <td>Non-Opener</td>\n",
       "      <td>All rounder</td>\n",
       "      <td>1</td>\n",
       "    </tr>\n",
       "    <tr>\n",
       "      <th>4</th>\n",
       "      <td>Dhoni</td>\n",
       "      <td>Warne</td>\n",
       "      <td>Non-Opener</td>\n",
       "      <td>All rounder</td>\n",
       "      <td>2</td>\n",
       "    </tr>\n",
       "    <tr>\n",
       "      <th>5</th>\n",
       "      <td>Hayden</td>\n",
       "      <td>Donald</td>\n",
       "      <td>Non-Opener</td>\n",
       "      <td>All rounder</td>\n",
       "      <td>2</td>\n",
       "    </tr>\n",
       "    <tr>\n",
       "      <th>6</th>\n",
       "      <td>Zaheer</td>\n",
       "      <td>Mcgrath</td>\n",
       "      <td>Non-Opener</td>\n",
       "      <td>Bowler</td>\n",
       "      <td>2</td>\n",
       "    </tr>\n",
       "    <tr>\n",
       "      <th>7</th>\n",
       "      <td>Sreeshanth</td>\n",
       "      <td>Kasprowiz</td>\n",
       "      <td>Non-Opener</td>\n",
       "      <td>Bowler</td>\n",
       "      <td>3</td>\n",
       "    </tr>\n",
       "    <tr>\n",
       "      <th>8</th>\n",
       "      <td>Bumrah</td>\n",
       "      <td>Pollock</td>\n",
       "      <td>Non-Opener</td>\n",
       "      <td>Bowler</td>\n",
       "      <td>3</td>\n",
       "    </tr>\n",
       "    <tr>\n",
       "      <th>9</th>\n",
       "      <td>Kumble</td>\n",
       "      <td>Steyn</td>\n",
       "      <td>Non-Opener</td>\n",
       "      <td>Bowler</td>\n",
       "      <td>3</td>\n",
       "    </tr>\n",
       "  </tbody>\n",
       "</table>\n",
       "</div>"
      ],
      "text/plain": [
       "         col1       col2       Label        Group  new_logo\n",
       "0      Sachin      Steve      Opener  All rounder         0\n",
       "1       Rahul      Ricky      Opener      Batsmen         0\n",
       "2      Saurav       Lara      Opener      Batsmen         1\n",
       "3       Virat    Klusner  Non-Opener  All rounder         1\n",
       "4       Dhoni      Warne  Non-Opener  All rounder         2\n",
       "5      Hayden     Donald  Non-Opener  All rounder         2\n",
       "6      Zaheer    Mcgrath  Non-Opener       Bowler         2\n",
       "7  Sreeshanth  Kasprowiz  Non-Opener       Bowler         3\n",
       "8      Bumrah    Pollock  Non-Opener       Bowler         3\n",
       "9      Kumble      Steyn  Non-Opener       Bowler         3"
      ]
     },
     "execution_count": 42,
     "metadata": {},
     "output_type": "execute_result"
    }
   ],
   "source": [
    "df"
   ]
  },
  {
   "cell_type": "code",
   "execution_count": 43,
   "metadata": {},
   "outputs": [
    {
     "name": "stdout",
     "output_type": "stream",
     "text": [
      "[0 1 2 3 4 5 6]\n",
      "[7 8 9]\n",
      "[0 1 2 3 7 8 9]\n",
      "[4 5 6]\n",
      "[4 5 6 7 8 9]\n",
      "[0 1 2 3]\n"
     ]
    }
   ],
   "source": [
    "for train , test in gkf.split(X=df[['col1','col2']],y=df['Label'],groups=logo_grp):\n",
    "    print(train)\n",
    "    print(test)"
   ]
  },
  {
   "cell_type": "code",
   "execution_count": 40,
   "metadata": {},
   "outputs": [
    {
     "name": "stdout",
     "output_type": "stream",
     "text": [
      "[2 3 4 5 6 7 8 9]\n",
      "[0 1]\n",
      "[0 1 4 5 6 7 8 9]\n",
      "[2 3]\n",
      "[0 1 2 3 7 8 9]\n",
      "[4 5 6]\n",
      "[0 1 2 3 4 5 6]\n",
      "[7 8 9]\n"
     ]
    }
   ],
   "source": [
    "for train , test in logo.split(X=df[['col1','col2']],y=df['Label'],groups=logo_grp):\n",
    "    print(train)\n",
    "    print(test)"
   ]
  },
  {
   "cell_type": "markdown",
   "metadata": {},
   "source": [
    "## **``LeavePGroupOut``**\n",
    "##### **It make sures that p number of groups are not present in the training set.**"
   ]
  },
  {
   "cell_type": "code",
   "execution_count": 44,
   "metadata": {},
   "outputs": [],
   "source": [
    "from sklearn.model_selection import LeavePGroupsOut"
   ]
  },
  {
   "cell_type": "code",
   "execution_count": 56,
   "metadata": {},
   "outputs": [],
   "source": [
    "lpgo = LeavePGroupsOut(n_groups=2)"
   ]
  },
  {
   "cell_type": "code",
   "execution_count": 57,
   "metadata": {},
   "outputs": [
    {
     "data": {
      "text/html": [
       "<div>\n",
       "<style scoped>\n",
       "    .dataframe tbody tr th:only-of-type {\n",
       "        vertical-align: middle;\n",
       "    }\n",
       "\n",
       "    .dataframe tbody tr th {\n",
       "        vertical-align: top;\n",
       "    }\n",
       "\n",
       "    .dataframe thead th {\n",
       "        text-align: right;\n",
       "    }\n",
       "</style>\n",
       "<table border=\"1\" class=\"dataframe\">\n",
       "  <thead>\n",
       "    <tr style=\"text-align: right;\">\n",
       "      <th></th>\n",
       "      <th>col1</th>\n",
       "      <th>col2</th>\n",
       "      <th>Label</th>\n",
       "      <th>Group</th>\n",
       "      <th>new_logo</th>\n",
       "    </tr>\n",
       "  </thead>\n",
       "  <tbody>\n",
       "    <tr>\n",
       "      <th>0</th>\n",
       "      <td>Sachin</td>\n",
       "      <td>Steve</td>\n",
       "      <td>Opener</td>\n",
       "      <td>All rounder</td>\n",
       "      <td>0</td>\n",
       "    </tr>\n",
       "    <tr>\n",
       "      <th>1</th>\n",
       "      <td>Rahul</td>\n",
       "      <td>Ricky</td>\n",
       "      <td>Opener</td>\n",
       "      <td>Batsmen</td>\n",
       "      <td>0</td>\n",
       "    </tr>\n",
       "    <tr>\n",
       "      <th>2</th>\n",
       "      <td>Saurav</td>\n",
       "      <td>Lara</td>\n",
       "      <td>Opener</td>\n",
       "      <td>Batsmen</td>\n",
       "      <td>1</td>\n",
       "    </tr>\n",
       "    <tr>\n",
       "      <th>3</th>\n",
       "      <td>Virat</td>\n",
       "      <td>Klusner</td>\n",
       "      <td>Non-Opener</td>\n",
       "      <td>All rounder</td>\n",
       "      <td>1</td>\n",
       "    </tr>\n",
       "    <tr>\n",
       "      <th>4</th>\n",
       "      <td>Dhoni</td>\n",
       "      <td>Warne</td>\n",
       "      <td>Non-Opener</td>\n",
       "      <td>All rounder</td>\n",
       "      <td>2</td>\n",
       "    </tr>\n",
       "    <tr>\n",
       "      <th>5</th>\n",
       "      <td>Hayden</td>\n",
       "      <td>Donald</td>\n",
       "      <td>Non-Opener</td>\n",
       "      <td>All rounder</td>\n",
       "      <td>2</td>\n",
       "    </tr>\n",
       "    <tr>\n",
       "      <th>6</th>\n",
       "      <td>Zaheer</td>\n",
       "      <td>Mcgrath</td>\n",
       "      <td>Non-Opener</td>\n",
       "      <td>Bowler</td>\n",
       "      <td>2</td>\n",
       "    </tr>\n",
       "    <tr>\n",
       "      <th>7</th>\n",
       "      <td>Sreeshanth</td>\n",
       "      <td>Kasprowiz</td>\n",
       "      <td>Non-Opener</td>\n",
       "      <td>Bowler</td>\n",
       "      <td>3</td>\n",
       "    </tr>\n",
       "    <tr>\n",
       "      <th>8</th>\n",
       "      <td>Bumrah</td>\n",
       "      <td>Pollock</td>\n",
       "      <td>Non-Opener</td>\n",
       "      <td>Bowler</td>\n",
       "      <td>3</td>\n",
       "    </tr>\n",
       "    <tr>\n",
       "      <th>9</th>\n",
       "      <td>Kumble</td>\n",
       "      <td>Steyn</td>\n",
       "      <td>Non-Opener</td>\n",
       "      <td>Bowler</td>\n",
       "      <td>3</td>\n",
       "    </tr>\n",
       "  </tbody>\n",
       "</table>\n",
       "</div>"
      ],
      "text/plain": [
       "         col1       col2       Label        Group  new_logo\n",
       "0      Sachin      Steve      Opener  All rounder         0\n",
       "1       Rahul      Ricky      Opener      Batsmen         0\n",
       "2      Saurav       Lara      Opener      Batsmen         1\n",
       "3       Virat    Klusner  Non-Opener  All rounder         1\n",
       "4       Dhoni      Warne  Non-Opener  All rounder         2\n",
       "5      Hayden     Donald  Non-Opener  All rounder         2\n",
       "6      Zaheer    Mcgrath  Non-Opener       Bowler         2\n",
       "7  Sreeshanth  Kasprowiz  Non-Opener       Bowler         3\n",
       "8      Bumrah    Pollock  Non-Opener       Bowler         3\n",
       "9      Kumble      Steyn  Non-Opener       Bowler         3"
      ]
     },
     "execution_count": 57,
     "metadata": {},
     "output_type": "execute_result"
    }
   ],
   "source": [
    "df"
   ]
  },
  {
   "cell_type": "code",
   "execution_count": 58,
   "metadata": {},
   "outputs": [
    {
     "name": "stdout",
     "output_type": "stream",
     "text": [
      "[4 5 6 7 8 9]\n",
      "[0 1 2 3]\n",
      "####\n",
      "[2 3 7 8 9]\n",
      "[0 1 4 5 6]\n",
      "####\n",
      "[2 3 4 5 6]\n",
      "[0 1 7 8 9]\n",
      "####\n",
      "[0 1 7 8 9]\n",
      "[2 3 4 5 6]\n",
      "####\n",
      "[0 1 4 5 6]\n",
      "[2 3 7 8 9]\n",
      "####\n",
      "[0 1 2 3]\n",
      "[4 5 6 7 8 9]\n",
      "####\n"
     ]
    }
   ],
   "source": [
    "for train , test in lpgo.split(X=df[['col1','col2']],y=df['Label'],groups=logo_grp):\n",
    "    print(train)\n",
    "    print(test)\n",
    "    print('####')"
   ]
  },
  {
   "cell_type": "code",
   "execution_count": 53,
   "metadata": {},
   "outputs": [],
   "source": [
    "lpgo = LeavePGroupsOut(n_groups=3)"
   ]
  },
  {
   "cell_type": "code",
   "execution_count": 52,
   "metadata": {},
   "outputs": [
    {
     "data": {
      "text/html": [
       "<div>\n",
       "<style scoped>\n",
       "    .dataframe tbody tr th:only-of-type {\n",
       "        vertical-align: middle;\n",
       "    }\n",
       "\n",
       "    .dataframe tbody tr th {\n",
       "        vertical-align: top;\n",
       "    }\n",
       "\n",
       "    .dataframe thead th {\n",
       "        text-align: right;\n",
       "    }\n",
       "</style>\n",
       "<table border=\"1\" class=\"dataframe\">\n",
       "  <thead>\n",
       "    <tr style=\"text-align: right;\">\n",
       "      <th></th>\n",
       "      <th>col1</th>\n",
       "      <th>col2</th>\n",
       "      <th>Label</th>\n",
       "      <th>Group</th>\n",
       "      <th>new_logo</th>\n",
       "    </tr>\n",
       "  </thead>\n",
       "  <tbody>\n",
       "    <tr>\n",
       "      <th>0</th>\n",
       "      <td>Sachin</td>\n",
       "      <td>Steve</td>\n",
       "      <td>Opener</td>\n",
       "      <td>All rounder</td>\n",
       "      <td>0</td>\n",
       "    </tr>\n",
       "    <tr>\n",
       "      <th>1</th>\n",
       "      <td>Rahul</td>\n",
       "      <td>Ricky</td>\n",
       "      <td>Opener</td>\n",
       "      <td>Batsmen</td>\n",
       "      <td>0</td>\n",
       "    </tr>\n",
       "    <tr>\n",
       "      <th>2</th>\n",
       "      <td>Saurav</td>\n",
       "      <td>Lara</td>\n",
       "      <td>Opener</td>\n",
       "      <td>Batsmen</td>\n",
       "      <td>1</td>\n",
       "    </tr>\n",
       "    <tr>\n",
       "      <th>3</th>\n",
       "      <td>Virat</td>\n",
       "      <td>Klusner</td>\n",
       "      <td>Non-Opener</td>\n",
       "      <td>All rounder</td>\n",
       "      <td>1</td>\n",
       "    </tr>\n",
       "    <tr>\n",
       "      <th>4</th>\n",
       "      <td>Dhoni</td>\n",
       "      <td>Warne</td>\n",
       "      <td>Non-Opener</td>\n",
       "      <td>All rounder</td>\n",
       "      <td>2</td>\n",
       "    </tr>\n",
       "    <tr>\n",
       "      <th>5</th>\n",
       "      <td>Hayden</td>\n",
       "      <td>Donald</td>\n",
       "      <td>Non-Opener</td>\n",
       "      <td>All rounder</td>\n",
       "      <td>2</td>\n",
       "    </tr>\n",
       "    <tr>\n",
       "      <th>6</th>\n",
       "      <td>Zaheer</td>\n",
       "      <td>Mcgrath</td>\n",
       "      <td>Non-Opener</td>\n",
       "      <td>Bowler</td>\n",
       "      <td>2</td>\n",
       "    </tr>\n",
       "    <tr>\n",
       "      <th>7</th>\n",
       "      <td>Sreeshanth</td>\n",
       "      <td>Kasprowiz</td>\n",
       "      <td>Non-Opener</td>\n",
       "      <td>Bowler</td>\n",
       "      <td>3</td>\n",
       "    </tr>\n",
       "    <tr>\n",
       "      <th>8</th>\n",
       "      <td>Bumrah</td>\n",
       "      <td>Pollock</td>\n",
       "      <td>Non-Opener</td>\n",
       "      <td>Bowler</td>\n",
       "      <td>3</td>\n",
       "    </tr>\n",
       "    <tr>\n",
       "      <th>9</th>\n",
       "      <td>Kumble</td>\n",
       "      <td>Steyn</td>\n",
       "      <td>Non-Opener</td>\n",
       "      <td>Bowler</td>\n",
       "      <td>3</td>\n",
       "    </tr>\n",
       "  </tbody>\n",
       "</table>\n",
       "</div>"
      ],
      "text/plain": [
       "         col1       col2       Label        Group  new_logo\n",
       "0      Sachin      Steve      Opener  All rounder         0\n",
       "1       Rahul      Ricky      Opener      Batsmen         0\n",
       "2      Saurav       Lara      Opener      Batsmen         1\n",
       "3       Virat    Klusner  Non-Opener  All rounder         1\n",
       "4       Dhoni      Warne  Non-Opener  All rounder         2\n",
       "5      Hayden     Donald  Non-Opener  All rounder         2\n",
       "6      Zaheer    Mcgrath  Non-Opener       Bowler         2\n",
       "7  Sreeshanth  Kasprowiz  Non-Opener       Bowler         3\n",
       "8      Bumrah    Pollock  Non-Opener       Bowler         3\n",
       "9      Kumble      Steyn  Non-Opener       Bowler         3"
      ]
     },
     "execution_count": 52,
     "metadata": {},
     "output_type": "execute_result"
    }
   ],
   "source": [
    "df"
   ]
  },
  {
   "cell_type": "code",
   "execution_count": 54,
   "metadata": {},
   "outputs": [
    {
     "name": "stdout",
     "output_type": "stream",
     "text": [
      "[7 8 9]\n",
      "[0 1 2 3 4 5 6]\n",
      "####\n",
      "[4 5 6]\n",
      "[0 1 2 3 7 8 9]\n",
      "####\n",
      "[2 3]\n",
      "[0 1 4 5 6 7 8 9]\n",
      "####\n",
      "[0 1]\n",
      "[2 3 4 5 6 7 8 9]\n",
      "####\n"
     ]
    }
   ],
   "source": [
    "for train , test in lpgo.split(X=df[['col1','col2']],y=df['Label'],groups=logo_grp):\n",
    "    print(train)\n",
    "    print(test)\n",
    "    print('####')"
   ]
  },
  {
   "cell_type": "markdown",
   "metadata": {},
   "source": [
    "## **``Group Shuffle Split``**\n",
    "##### **It runs as a combination of ShuffleSplit and LeavePGroupsOut and generates the randomized sequences of sets.**"
   ]
  },
  {
   "cell_type": "code",
   "execution_count": 59,
   "metadata": {},
   "outputs": [],
   "source": [
    "from sklearn.model_selection import GroupShuffleSplit"
   ]
  },
  {
   "cell_type": "code",
   "execution_count": 60,
   "metadata": {},
   "outputs": [],
   "source": [
    "gss = GroupShuffleSplit(n_splits=3,test_size=0.40,train_size=0.60)"
   ]
  },
  {
   "cell_type": "code",
   "execution_count": 61,
   "metadata": {},
   "outputs": [
    {
     "name": "stdout",
     "output_type": "stream",
     "text": [
      "[0 1 7 8 9]\n",
      "[2 3 4 5 6]\n",
      "####\n",
      "[0 1 7 8 9]\n",
      "[2 3 4 5 6]\n",
      "####\n",
      "[0 1 4 5 6]\n",
      "[2 3 7 8 9]\n",
      "####\n"
     ]
    }
   ],
   "source": [
    "for train , test in gss.split(X=df[['col1','col2']],y=df['Label'],groups=logo_grp):\n",
    "    print(train)\n",
    "    print(test)\n",
    "    print('####')"
   ]
  },
  {
   "cell_type": "code",
   "execution_count": 70,
   "metadata": {},
   "outputs": [],
   "source": [
    "gss = GroupShuffleSplit(n_splits=7,test_size=0.40)"
   ]
  },
  {
   "cell_type": "code",
   "execution_count": 71,
   "metadata": {},
   "outputs": [
    {
     "name": "stdout",
     "output_type": "stream",
     "text": [
      "[4 5 6 7 8 9]\n",
      "[0 1 2 3]\n",
      "####\n",
      "[4 5 6 7 8 9]\n",
      "[0 1 2 3]\n",
      "####\n",
      "[4 5 6 7 8 9]\n",
      "[0 1 2 3]\n",
      "####\n",
      "[0 1 2 3]\n",
      "[4 5 6 7 8 9]\n",
      "####\n",
      "[0 1 4 5 6]\n",
      "[2 3 7 8 9]\n",
      "####\n",
      "[2 3 4 5 6]\n",
      "[0 1 7 8 9]\n",
      "####\n",
      "[0 1 4 5 6]\n",
      "[2 3 7 8 9]\n",
      "####\n"
     ]
    }
   ],
   "source": [
    "for train , test in gss.split(X=df[['col1','col2']],y=df['Label'],groups=logo_grp):\n",
    "    print(train)\n",
    "    print(test)\n",
    "    print('####')"
   ]
  },
  {
   "cell_type": "markdown",
   "metadata": {},
   "source": [
    "## **``Predefined Split``**\n",
    "##### **It is a user defined split where user can defined the pattern of split in 0(test_fold) and -1(train_fold) form.**"
   ]
  },
  {
   "cell_type": "code",
   "execution_count": 72,
   "metadata": {},
   "outputs": [],
   "source": [
    "from sklearn.model_selection import PredefinedSplit"
   ]
  },
  {
   "cell_type": "code",
   "execution_count": 73,
   "metadata": {},
   "outputs": [
    {
     "data": {
      "text/html": [
       "<div>\n",
       "<style scoped>\n",
       "    .dataframe tbody tr th:only-of-type {\n",
       "        vertical-align: middle;\n",
       "    }\n",
       "\n",
       "    .dataframe tbody tr th {\n",
       "        vertical-align: top;\n",
       "    }\n",
       "\n",
       "    .dataframe thead th {\n",
       "        text-align: right;\n",
       "    }\n",
       "</style>\n",
       "<table border=\"1\" class=\"dataframe\">\n",
       "  <thead>\n",
       "    <tr style=\"text-align: right;\">\n",
       "      <th></th>\n",
       "      <th>col1</th>\n",
       "      <th>col2</th>\n",
       "      <th>Label</th>\n",
       "      <th>Group</th>\n",
       "      <th>new_logo</th>\n",
       "    </tr>\n",
       "  </thead>\n",
       "  <tbody>\n",
       "    <tr>\n",
       "      <th>0</th>\n",
       "      <td>Sachin</td>\n",
       "      <td>Steve</td>\n",
       "      <td>Opener</td>\n",
       "      <td>All rounder</td>\n",
       "      <td>0</td>\n",
       "    </tr>\n",
       "    <tr>\n",
       "      <th>1</th>\n",
       "      <td>Rahul</td>\n",
       "      <td>Ricky</td>\n",
       "      <td>Opener</td>\n",
       "      <td>Batsmen</td>\n",
       "      <td>0</td>\n",
       "    </tr>\n",
       "    <tr>\n",
       "      <th>2</th>\n",
       "      <td>Saurav</td>\n",
       "      <td>Lara</td>\n",
       "      <td>Opener</td>\n",
       "      <td>Batsmen</td>\n",
       "      <td>1</td>\n",
       "    </tr>\n",
       "    <tr>\n",
       "      <th>3</th>\n",
       "      <td>Virat</td>\n",
       "      <td>Klusner</td>\n",
       "      <td>Non-Opener</td>\n",
       "      <td>All rounder</td>\n",
       "      <td>1</td>\n",
       "    </tr>\n",
       "    <tr>\n",
       "      <th>4</th>\n",
       "      <td>Dhoni</td>\n",
       "      <td>Warne</td>\n",
       "      <td>Non-Opener</td>\n",
       "      <td>All rounder</td>\n",
       "      <td>2</td>\n",
       "    </tr>\n",
       "    <tr>\n",
       "      <th>5</th>\n",
       "      <td>Hayden</td>\n",
       "      <td>Donald</td>\n",
       "      <td>Non-Opener</td>\n",
       "      <td>All rounder</td>\n",
       "      <td>2</td>\n",
       "    </tr>\n",
       "    <tr>\n",
       "      <th>6</th>\n",
       "      <td>Zaheer</td>\n",
       "      <td>Mcgrath</td>\n",
       "      <td>Non-Opener</td>\n",
       "      <td>Bowler</td>\n",
       "      <td>2</td>\n",
       "    </tr>\n",
       "    <tr>\n",
       "      <th>7</th>\n",
       "      <td>Sreeshanth</td>\n",
       "      <td>Kasprowiz</td>\n",
       "      <td>Non-Opener</td>\n",
       "      <td>Bowler</td>\n",
       "      <td>3</td>\n",
       "    </tr>\n",
       "    <tr>\n",
       "      <th>8</th>\n",
       "      <td>Bumrah</td>\n",
       "      <td>Pollock</td>\n",
       "      <td>Non-Opener</td>\n",
       "      <td>Bowler</td>\n",
       "      <td>3</td>\n",
       "    </tr>\n",
       "    <tr>\n",
       "      <th>9</th>\n",
       "      <td>Kumble</td>\n",
       "      <td>Steyn</td>\n",
       "      <td>Non-Opener</td>\n",
       "      <td>Bowler</td>\n",
       "      <td>3</td>\n",
       "    </tr>\n",
       "  </tbody>\n",
       "</table>\n",
       "</div>"
      ],
      "text/plain": [
       "         col1       col2       Label        Group  new_logo\n",
       "0      Sachin      Steve      Opener  All rounder         0\n",
       "1       Rahul      Ricky      Opener      Batsmen         0\n",
       "2      Saurav       Lara      Opener      Batsmen         1\n",
       "3       Virat    Klusner  Non-Opener  All rounder         1\n",
       "4       Dhoni      Warne  Non-Opener  All rounder         2\n",
       "5      Hayden     Donald  Non-Opener  All rounder         2\n",
       "6      Zaheer    Mcgrath  Non-Opener       Bowler         2\n",
       "7  Sreeshanth  Kasprowiz  Non-Opener       Bowler         3\n",
       "8      Bumrah    Pollock  Non-Opener       Bowler         3\n",
       "9      Kumble      Steyn  Non-Opener       Bowler         3"
      ]
     },
     "execution_count": 73,
     "metadata": {},
     "output_type": "execute_result"
    }
   ],
   "source": [
    "df"
   ]
  },
  {
   "cell_type": "markdown",
   "metadata": {},
   "source": [
    "#### **Case:I**"
   ]
  },
  {
   "cell_type": "code",
   "execution_count": 75,
   "metadata": {},
   "outputs": [],
   "source": [
    "test_folds = [0,-1,0,-1,0,-1,0,-1,0,-1]"
   ]
  },
  {
   "cell_type": "code",
   "execution_count": 76,
   "metadata": {},
   "outputs": [],
   "source": [
    "pds = PredefinedSplit(test_fold=test_folds)"
   ]
  },
  {
   "cell_type": "code",
   "execution_count": 77,
   "metadata": {},
   "outputs": [
    {
     "name": "stdout",
     "output_type": "stream",
     "text": [
      "[1 3 5 7 9]\n",
      "[0 2 4 6 8]\n"
     ]
    }
   ],
   "source": [
    "for train , test in pds.split(X=df):\n",
    "    print(train)\n",
    "    print(test)"
   ]
  },
  {
   "cell_type": "markdown",
   "metadata": {},
   "source": [
    "#### **Case:II**"
   ]
  },
  {
   "cell_type": "code",
   "execution_count": 78,
   "metadata": {},
   "outputs": [],
   "source": [
    "test_folds = [0,0,0,0,0,0,-1,-1,-1,0]"
   ]
  },
  {
   "cell_type": "code",
   "execution_count": 79,
   "metadata": {},
   "outputs": [],
   "source": [
    "pds = PredefinedSplit(test_fold=test_folds)"
   ]
  },
  {
   "cell_type": "code",
   "execution_count": 80,
   "metadata": {},
   "outputs": [
    {
     "name": "stdout",
     "output_type": "stream",
     "text": [
      "[6 7 8]\n",
      "[0 1 2 3 4 5 9]\n"
     ]
    }
   ],
   "source": [
    "for train , test in pds.split(X=df):\n",
    "    print(train)\n",
    "    print(test)"
   ]
  }
 ],
 "metadata": {
  "kernelspec": {
   "display_name": "Python 3",
   "language": "python",
   "name": "python3"
  },
  "language_info": {
   "codemirror_mode": {
    "name": "ipython",
    "version": 3
   },
   "file_extension": ".py",
   "mimetype": "text/x-python",
   "name": "python",
   "nbconvert_exporter": "python",
   "pygments_lexer": "ipython3",
   "version": "3.6.5"
  }
 },
 "nbformat": 4,
 "nbformat_minor": 2
}
