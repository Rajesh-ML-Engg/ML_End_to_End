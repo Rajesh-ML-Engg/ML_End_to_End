{
 "cells": [
  {
   "cell_type": "markdown",
   "metadata": {},
   "source": [
    "## **``KFold``**\n",
    "##### **It returns the indices of the data points for the training and testing datasets.**"
   ]
  },
  {
   "cell_type": "code",
   "execution_count": 1,
   "metadata": {},
   "outputs": [],
   "source": [
    "from sklearn.model_selection import KFold"
   ]
  },
  {
   "cell_type": "code",
   "execution_count": 2,
   "metadata": {},
   "outputs": [],
   "source": [
    "import numpy as np"
   ]
  },
  {
   "cell_type": "code",
   "execution_count": 21,
   "metadata": {},
   "outputs": [],
   "source": [
    "X = np.random.randint(low=1,high=10,size=4)"
   ]
  },
  {
   "cell_type": "code",
   "execution_count": 204,
   "metadata": {},
   "outputs": [],
   "source": [
    "X = ['a','b','c','d']"
   ]
  },
  {
   "cell_type": "code",
   "execution_count": 84,
   "metadata": {},
   "outputs": [
    {
     "data": {
      "text/plain": [
       "['a', 'b', 'c', 'd']"
      ]
     },
     "execution_count": 84,
     "metadata": {},
     "output_type": "execute_result"
    }
   ],
   "source": [
    "sorted(X)"
   ]
  },
  {
   "cell_type": "code",
   "execution_count": 206,
   "metadata": {},
   "outputs": [],
   "source": [
    "kfold = KFold(n_splits=4,shuffle=True)"
   ]
  },
  {
   "cell_type": "code",
   "execution_count": 207,
   "metadata": {},
   "outputs": [
    {
     "name": "stdout",
     "output_type": "stream",
     "text": [
      "[1 2 3]\n",
      "[0]\n",
      "######\n",
      "[0 1 3]\n",
      "[2]\n",
      "######\n",
      "[0 1 2]\n",
      "[3]\n",
      "######\n",
      "[0 2 3]\n",
      "[1]\n",
      "######\n"
     ]
    }
   ],
   "source": [
    "for train ,test in kfold.split(X):\n",
    "    print(train)\n",
    "    print(test)\n",
    "    print(\"######\")"
   ]
  },
  {
   "cell_type": "code",
   "execution_count": 87,
   "metadata": {},
   "outputs": [],
   "source": [
    "kfold = KFold(n_splits=3,shuffle=True,random_state=33) ## We can add the random_state to get the same result every time"
   ]
  },
  {
   "cell_type": "code",
   "execution_count": 88,
   "metadata": {},
   "outputs": [
    {
     "name": "stdout",
     "output_type": "stream",
     "text": [
      "[0 3]\n",
      "[1 2]\n",
      "######\n",
      "[1 2 3]\n",
      "[0]\n",
      "######\n",
      "[0 1 2]\n",
      "[3]\n",
      "######\n"
     ]
    }
   ],
   "source": [
    "for train ,test in kfold.split(X):\n",
    "    print(train)\n",
    "    print(test)\n",
    "    print(\"######\")"
   ]
  },
  {
   "cell_type": "markdown",
   "metadata": {},
   "source": [
    "##### **KFold using Numpy indexing**"
   ]
  },
  {
   "cell_type": "code",
   "execution_count": 55,
   "metadata": {},
   "outputs": [],
   "source": [
    "X = [['a','b'],['c','d'],['c','a'],['e','f']]\n",
    "y= [0,1,0,1]"
   ]
  },
  {
   "cell_type": "code",
   "execution_count": 56,
   "metadata": {},
   "outputs": [
    {
     "data": {
      "text/plain": [
       "[['a', 'b'], ['c', 'd'], ['c', 'a'], ['e', 'f']]"
      ]
     },
     "execution_count": 56,
     "metadata": {},
     "output_type": "execute_result"
    }
   ],
   "source": [
    "X"
   ]
  },
  {
   "cell_type": "code",
   "execution_count": 57,
   "metadata": {},
   "outputs": [
    {
     "data": {
      "text/plain": [
       "[0, 1, 0, 1]"
      ]
     },
     "execution_count": 57,
     "metadata": {},
     "output_type": "execute_result"
    }
   ],
   "source": [
    "y"
   ]
  },
  {
   "cell_type": "code",
   "execution_count": 60,
   "metadata": {},
   "outputs": [],
   "source": [
    "X_train, X_test, y_train, y_test = X[0], X[1], y[0], y[1]"
   ]
  },
  {
   "cell_type": "code",
   "execution_count": 61,
   "metadata": {},
   "outputs": [
    {
     "data": {
      "text/plain": [
       "['a', 'b']"
      ]
     },
     "execution_count": 61,
     "metadata": {},
     "output_type": "execute_result"
    }
   ],
   "source": [
    "X_train"
   ]
  },
  {
   "cell_type": "code",
   "execution_count": 62,
   "metadata": {},
   "outputs": [
    {
     "data": {
      "text/plain": [
       "['c', 'd']"
      ]
     },
     "execution_count": 62,
     "metadata": {},
     "output_type": "execute_result"
    }
   ],
   "source": [
    "X_test"
   ]
  },
  {
   "cell_type": "code",
   "execution_count": 63,
   "metadata": {},
   "outputs": [
    {
     "data": {
      "text/plain": [
       "0"
      ]
     },
     "execution_count": 63,
     "metadata": {},
     "output_type": "execute_result"
    }
   ],
   "source": [
    "y_train"
   ]
  },
  {
   "cell_type": "code",
   "execution_count": 64,
   "metadata": {},
   "outputs": [
    {
     "data": {
      "text/plain": [
       "1"
      ]
     },
     "execution_count": 64,
     "metadata": {},
     "output_type": "execute_result"
    }
   ],
   "source": [
    "y_test"
   ]
  },
  {
   "cell_type": "markdown",
   "metadata": {},
   "source": [
    "## **``Repeated K-Fold``**\n",
    "##### **It is used when we have to perform the K-Fold multiple number of times. Each time getting a different result.**"
   ]
  },
  {
   "cell_type": "code",
   "execution_count": 66,
   "metadata": {},
   "outputs": [],
   "source": [
    "from sklearn.model_selection import RepeatedKFold"
   ]
  },
  {
   "cell_type": "code",
   "execution_count": 209,
   "metadata": {},
   "outputs": [],
   "source": [
    "X = ['Ram','Rahul','Vishu','Raman','Jia','Jai','Jeetu']"
   ]
  },
  {
   "cell_type": "code",
   "execution_count": 149,
   "metadata": {},
   "outputs": [],
   "source": [
    "rkf = RepeatedKFold(n_splits=2,n_repeats=3)"
   ]
  },
  {
   "cell_type": "code",
   "execution_count": 150,
   "metadata": {},
   "outputs": [
    {
     "name": "stdout",
     "output_type": "stream",
     "text": [
      "[1 5 6]\n",
      "[0 2 3 4]\n",
      "###\n",
      "[0 2 3 4]\n",
      "[1 5 6]\n",
      "###\n",
      "[1 4 5]\n",
      "[0 2 3 6]\n",
      "###\n",
      "[0 2 3 6]\n",
      "[1 4 5]\n",
      "###\n",
      "[0 3 4]\n",
      "[1 2 5 6]\n",
      "###\n",
      "[1 2 5 6]\n",
      "[0 3 4]\n",
      "###\n"
     ]
    }
   ],
   "source": [
    "for train , test in rkf.split(X):\n",
    "    print(train)\n",
    "    print(test)\n",
    "    print('###')"
   ]
  },
  {
   "cell_type": "code",
   "execution_count": 101,
   "metadata": {},
   "outputs": [],
   "source": [
    "rkf = RepeatedKFold(n_splits=3,n_repeats=3,random_state=2) ## We can random_state to get the same kind of result every time"
   ]
  },
  {
   "cell_type": "code",
   "execution_count": 116,
   "metadata": {},
   "outputs": [
    {
     "name": "stdout",
     "output_type": "stream",
     "text": [
      "[1 2 5 6]\n",
      "[0 3 4]\n",
      "$$$\n",
      "[0 3 4 5 6]\n",
      "[1 2]\n",
      "$$$\n",
      "[0 1 2 3 4]\n",
      "[5 6]\n",
      "$$$\n",
      "[1 2 5 6]\n",
      "[0 3 4]\n",
      "$$$\n",
      "[0 2 3 4 5]\n",
      "[1 6]\n",
      "$$$\n",
      "[0 1 3 4 6]\n",
      "[2 5]\n",
      "$$$\n",
      "[2 3 4 5]\n",
      "[0 1 6]\n",
      "$$$\n",
      "[0 1 3 4 6]\n",
      "[2 5]\n",
      "$$$\n",
      "[0 1 2 5 6]\n",
      "[3 4]\n",
      "$$$\n"
     ]
    }
   ],
   "source": [
    "for train , test in rkf.split(X):\n",
    "    print(train)\n",
    "    print(test)\n",
    "    print('$$$')"
   ]
  },
  {
   "cell_type": "markdown",
   "metadata": {},
   "source": [
    "## **``Leave One Out``**\n",
    "##### **In this type of cross-validation technique n different training sets and n different test sets are formed. Test set will always be n -1. Therefore, every time we are training the model in an identical dataset. Because every time we are leaving only 1 sample for the testing purpose.**"
   ]
  },
  {
   "cell_type": "code",
   "execution_count": 117,
   "metadata": {},
   "outputs": [],
   "source": [
    "from sklearn.model_selection import LeaveOneOut"
   ]
  },
  {
   "cell_type": "code",
   "execution_count": 122,
   "metadata": {},
   "outputs": [],
   "source": [
    "loo = LeaveOneOut()"
   ]
  },
  {
   "cell_type": "code",
   "execution_count": 119,
   "metadata": {},
   "outputs": [
    {
     "data": {
      "text/plain": [
       "['Ram', 'Rahul', 'Vishu', 'Raman', 'Jia', 'Jai', 'Jeetu']"
      ]
     },
     "execution_count": 119,
     "metadata": {},
     "output_type": "execute_result"
    }
   ],
   "source": [
    "X"
   ]
  },
  {
   "cell_type": "code",
   "execution_count": 123,
   "metadata": {},
   "outputs": [
    {
     "name": "stdout",
     "output_type": "stream",
     "text": [
      "[1 2 3 4 5 6]\n",
      "[0]\n",
      "###\n",
      "[0 2 3 4 5 6]\n",
      "[1]\n",
      "###\n",
      "[0 1 3 4 5 6]\n",
      "[2]\n",
      "###\n",
      "[0 1 2 4 5 6]\n",
      "[3]\n",
      "###\n",
      "[0 1 2 3 5 6]\n",
      "[4]\n",
      "###\n",
      "[0 1 2 3 4 6]\n",
      "[5]\n",
      "###\n",
      "[0 1 2 3 4 5]\n",
      "[6]\n",
      "###\n"
     ]
    }
   ],
   "source": [
    "for train ,test in loo.split(X):\n",
    "    print(train)\n",
    "    print(test)\n",
    "    print('###')"
   ]
  },
  {
   "cell_type": "markdown",
   "metadata": {},
   "source": [
    "## **``Leave P Out``**\n",
    "##### **It is similar to LeaveOneOut and it works on the principle of removing p samples fron the entire dataset. The number of samples which we mentioned as p will go into one set.**"
   ]
  },
  {
   "cell_type": "code",
   "execution_count": 124,
   "metadata": {},
   "outputs": [],
   "source": [
    "from sklearn.model_selection import LeavePOut"
   ]
  },
  {
   "cell_type": "code",
   "execution_count": 212,
   "metadata": {},
   "outputs": [],
   "source": [
    "lpo = LeavePOut(2)"
   ]
  },
  {
   "cell_type": "code",
   "execution_count": 213,
   "metadata": {},
   "outputs": [
    {
     "data": {
      "text/plain": [
       "['Ram', 'Rahul', 'Vishu', 'Raman', 'Jia', 'Jai', 'Jeetu']"
      ]
     },
     "execution_count": 213,
     "metadata": {},
     "output_type": "execute_result"
    }
   ],
   "source": [
    "X"
   ]
  },
  {
   "cell_type": "code",
   "execution_count": 215,
   "metadata": {},
   "outputs": [
    {
     "name": "stdout",
     "output_type": "stream",
     "text": [
      "[2 3]\n",
      "[0 1]\n",
      "###\n",
      "[1 3]\n",
      "[0 2]\n",
      "###\n",
      "[1 2]\n",
      "[0 3]\n",
      "###\n",
      "[0 3]\n",
      "[1 2]\n",
      "###\n",
      "[0 2]\n",
      "[1 3]\n",
      "###\n",
      "[0 1]\n",
      "[2 3]\n",
      "###\n"
     ]
    }
   ],
   "source": [
    "for train ,test in lpo.split(X[0:4]):\n",
    "    print(train)\n",
    "    print(test)\n",
    "    print('###')"
   ]
  },
  {
   "cell_type": "code",
   "execution_count": 129,
   "metadata": {},
   "outputs": [],
   "source": [
    "lpo =LeavePOut(5)"
   ]
  },
  {
   "cell_type": "code",
   "execution_count": 130,
   "metadata": {},
   "outputs": [
    {
     "data": {
      "text/plain": [
       "['Ram', 'Rahul', 'Vishu', 'Raman', 'Jia', 'Jai', 'Jeetu']"
      ]
     },
     "execution_count": 130,
     "metadata": {},
     "output_type": "execute_result"
    }
   ],
   "source": [
    "X"
   ]
  },
  {
   "cell_type": "code",
   "execution_count": 132,
   "metadata": {},
   "outputs": [
    {
     "name": "stdout",
     "output_type": "stream",
     "text": [
      "[5 6]\n",
      "[0 1 2 3 4]\n",
      "***\n",
      "[4 6]\n",
      "[0 1 2 3 5]\n",
      "***\n",
      "[4 5]\n",
      "[0 1 2 3 6]\n",
      "***\n",
      "[3 6]\n",
      "[0 1 2 4 5]\n",
      "***\n",
      "[3 5]\n",
      "[0 1 2 4 6]\n",
      "***\n",
      "[3 4]\n",
      "[0 1 2 5 6]\n",
      "***\n",
      "[2 6]\n",
      "[0 1 3 4 5]\n",
      "***\n",
      "[2 5]\n",
      "[0 1 3 4 6]\n",
      "***\n",
      "[2 4]\n",
      "[0 1 3 5 6]\n",
      "***\n",
      "[2 3]\n",
      "[0 1 4 5 6]\n",
      "***\n",
      "[1 6]\n",
      "[0 2 3 4 5]\n",
      "***\n",
      "[1 5]\n",
      "[0 2 3 4 6]\n",
      "***\n",
      "[1 4]\n",
      "[0 2 3 5 6]\n",
      "***\n",
      "[1 3]\n",
      "[0 2 4 5 6]\n",
      "***\n",
      "[1 2]\n",
      "[0 3 4 5 6]\n",
      "***\n",
      "[0 6]\n",
      "[1 2 3 4 5]\n",
      "***\n",
      "[0 5]\n",
      "[1 2 3 4 6]\n",
      "***\n",
      "[0 4]\n",
      "[1 2 3 5 6]\n",
      "***\n",
      "[0 3]\n",
      "[1 2 4 5 6]\n",
      "***\n",
      "[0 2]\n",
      "[1 3 4 5 6]\n",
      "***\n",
      "[0 1]\n",
      "[2 3 4 5 6]\n",
      "***\n"
     ]
    }
   ],
   "source": [
    "for a , b in lpo.split(X):\n",
    "    print(a)\n",
    "    print(b)\n",
    "    print('***')"
   ]
  },
  {
   "cell_type": "code",
   "execution_count": 133,
   "metadata": {},
   "outputs": [],
   "source": [
    "lpo = LeavePOut(p=3)"
   ]
  },
  {
   "cell_type": "code",
   "execution_count": 134,
   "metadata": {},
   "outputs": [
    {
     "data": {
      "text/plain": [
       "['Ram', 'Rahul', 'Vishu', 'Raman', 'Jia', 'Jai', 'Jeetu']"
      ]
     },
     "execution_count": 134,
     "metadata": {},
     "output_type": "execute_result"
    }
   ],
   "source": [
    "X"
   ]
  },
  {
   "cell_type": "code",
   "execution_count": 156,
   "metadata": {},
   "outputs": [],
   "source": [
    "rkf = RepeatedKFold(n_splits=2,n_repeats=2)"
   ]
  },
  {
   "cell_type": "code",
   "execution_count": 157,
   "metadata": {},
   "outputs": [
    {
     "name": "stdout",
     "output_type": "stream",
     "text": [
      "[0 2]\n",
      "[1 3]\n",
      "%%%%\n",
      "[1 3]\n",
      "[0 2]\n",
      "%%%%\n",
      "[0 2]\n",
      "[1 3]\n",
      "%%%%\n",
      "[1 3]\n",
      "[0 2]\n",
      "%%%%\n",
      "[0 1 2]\n",
      "&&&&\n",
      "[0 2]\n",
      "[1 3]\n",
      "%%%%\n",
      "[1 3]\n",
      "[0 2]\n",
      "%%%%\n",
      "[1 2]\n",
      "[0 3]\n",
      "%%%%\n",
      "[0 3]\n",
      "[1 2]\n",
      "%%%%\n",
      "[0 1 3]\n",
      "&&&&\n",
      "[0 1]\n",
      "[2 3]\n",
      "%%%%\n",
      "[2 3]\n",
      "[0 1]\n",
      "%%%%\n",
      "[2 3]\n",
      "[0 1]\n",
      "%%%%\n",
      "[0 1]\n",
      "[2 3]\n",
      "%%%%\n",
      "[0 1 4]\n",
      "&&&&\n",
      "[2 3]\n",
      "[0 1]\n",
      "%%%%\n",
      "[0 1]\n",
      "[2 3]\n",
      "%%%%\n",
      "[0 3]\n",
      "[1 2]\n",
      "%%%%\n",
      "[1 2]\n",
      "[0 3]\n",
      "%%%%\n",
      "[0 1 5]\n",
      "&&&&\n",
      "[1 2]\n",
      "[0 3]\n",
      "%%%%\n",
      "[0 3]\n",
      "[1 2]\n",
      "%%%%\n",
      "[2 3]\n",
      "[0 1]\n",
      "%%%%\n",
      "[0 1]\n",
      "[2 3]\n",
      "%%%%\n",
      "[0 1 6]\n",
      "&&&&\n",
      "[0 3]\n",
      "[1 2]\n",
      "%%%%\n",
      "[1 2]\n",
      "[0 3]\n",
      "%%%%\n",
      "[0 3]\n",
      "[1 2]\n",
      "%%%%\n",
      "[1 2]\n",
      "[0 3]\n",
      "%%%%\n",
      "[0 2 3]\n",
      "&&&&\n",
      "[2 3]\n",
      "[0 1]\n",
      "%%%%\n",
      "[0 1]\n",
      "[2 3]\n",
      "%%%%\n",
      "[2 3]\n",
      "[0 1]\n",
      "%%%%\n",
      "[0 1]\n",
      "[2 3]\n",
      "%%%%\n",
      "[0 2 4]\n",
      "&&&&\n",
      "[2 3]\n",
      "[0 1]\n",
      "%%%%\n",
      "[0 1]\n",
      "[2 3]\n",
      "%%%%\n",
      "[0 2]\n",
      "[1 3]\n",
      "%%%%\n",
      "[1 3]\n",
      "[0 2]\n",
      "%%%%\n",
      "[0 2 5]\n",
      "&&&&\n",
      "[0 2]\n",
      "[1 3]\n",
      "%%%%\n",
      "[1 3]\n",
      "[0 2]\n",
      "%%%%\n",
      "[0 2]\n",
      "[1 3]\n",
      "%%%%\n",
      "[1 3]\n",
      "[0 2]\n",
      "%%%%\n",
      "[0 2 6]\n",
      "&&&&\n",
      "[0 1]\n",
      "[2 3]\n",
      "%%%%\n",
      "[2 3]\n",
      "[0 1]\n",
      "%%%%\n",
      "[1 2]\n",
      "[0 3]\n",
      "%%%%\n",
      "[0 3]\n",
      "[1 2]\n",
      "%%%%\n",
      "[0 3 4]\n",
      "&&&&\n",
      "[0 3]\n",
      "[1 2]\n",
      "%%%%\n",
      "[1 2]\n",
      "[0 3]\n",
      "%%%%\n",
      "[0 2]\n",
      "[1 3]\n",
      "%%%%\n",
      "[1 3]\n",
      "[0 2]\n",
      "%%%%\n",
      "[0 3 5]\n",
      "&&&&\n",
      "[2 3]\n",
      "[0 1]\n",
      "%%%%\n",
      "[0 1]\n",
      "[2 3]\n",
      "%%%%\n",
      "[0 1]\n",
      "[2 3]\n",
      "%%%%\n",
      "[2 3]\n",
      "[0 1]\n",
      "%%%%\n",
      "[0 3 6]\n",
      "&&&&\n",
      "[2 3]\n",
      "[0 1]\n",
      "%%%%\n",
      "[0 1]\n",
      "[2 3]\n",
      "%%%%\n",
      "[2 3]\n",
      "[0 1]\n",
      "%%%%\n",
      "[0 1]\n",
      "[2 3]\n",
      "%%%%\n",
      "[0 4 5]\n",
      "&&&&\n",
      "[0 2]\n",
      "[1 3]\n",
      "%%%%\n",
      "[1 3]\n",
      "[0 2]\n",
      "%%%%\n",
      "[1 3]\n",
      "[0 2]\n",
      "%%%%\n",
      "[0 2]\n",
      "[1 3]\n",
      "%%%%\n",
      "[0 4 6]\n",
      "&&&&\n",
      "[0 2]\n",
      "[1 3]\n",
      "%%%%\n",
      "[1 3]\n",
      "[0 2]\n",
      "%%%%\n",
      "[0 1]\n",
      "[2 3]\n",
      "%%%%\n",
      "[2 3]\n",
      "[0 1]\n",
      "%%%%\n",
      "[0 5 6]\n",
      "&&&&\n",
      "[1 2]\n",
      "[0 3]\n",
      "%%%%\n",
      "[0 3]\n",
      "[1 2]\n",
      "%%%%\n",
      "[0 2]\n",
      "[1 3]\n",
      "%%%%\n",
      "[1 3]\n",
      "[0 2]\n",
      "%%%%\n",
      "[1 2 3]\n",
      "&&&&\n",
      "[0 3]\n",
      "[1 2]\n",
      "%%%%\n",
      "[1 2]\n",
      "[0 3]\n",
      "%%%%\n",
      "[1 3]\n",
      "[0 2]\n",
      "%%%%\n",
      "[0 2]\n",
      "[1 3]\n",
      "%%%%\n",
      "[1 2 4]\n",
      "&&&&\n",
      "[2 3]\n",
      "[0 1]\n",
      "%%%%\n",
      "[0 1]\n",
      "[2 3]\n",
      "%%%%\n",
      "[0 3]\n",
      "[1 2]\n",
      "%%%%\n",
      "[1 2]\n",
      "[0 3]\n",
      "%%%%\n",
      "[1 2 5]\n",
      "&&&&\n",
      "[0 3]\n",
      "[1 2]\n",
      "%%%%\n",
      "[1 2]\n",
      "[0 3]\n",
      "%%%%\n",
      "[2 3]\n",
      "[0 1]\n",
      "%%%%\n",
      "[0 1]\n",
      "[2 3]\n",
      "%%%%\n",
      "[1 2 6]\n",
      "&&&&\n",
      "[1 2]\n",
      "[0 3]\n",
      "%%%%\n",
      "[0 3]\n",
      "[1 2]\n",
      "%%%%\n",
      "[1 2]\n",
      "[0 3]\n",
      "%%%%\n",
      "[0 3]\n",
      "[1 2]\n",
      "%%%%\n",
      "[1 3 4]\n",
      "&&&&\n",
      "[1 2]\n",
      "[0 3]\n",
      "%%%%\n",
      "[0 3]\n",
      "[1 2]\n",
      "%%%%\n",
      "[1 3]\n",
      "[0 2]\n",
      "%%%%\n",
      "[0 2]\n",
      "[1 3]\n",
      "%%%%\n",
      "[1 3 5]\n",
      "&&&&\n",
      "[1 3]\n",
      "[0 2]\n",
      "%%%%\n",
      "[0 2]\n",
      "[1 3]\n",
      "%%%%\n",
      "[0 2]\n",
      "[1 3]\n",
      "%%%%\n",
      "[1 3]\n",
      "[0 2]\n",
      "%%%%\n",
      "[1 3 6]\n",
      "&&&&\n",
      "[0 1]\n",
      "[2 3]\n",
      "%%%%\n",
      "[2 3]\n",
      "[0 1]\n",
      "%%%%\n",
      "[2 3]\n",
      "[0 1]\n",
      "%%%%\n",
      "[0 1]\n",
      "[2 3]\n",
      "%%%%\n",
      "[1 4 5]\n",
      "&&&&\n",
      "[2 3]\n",
      "[0 1]\n",
      "%%%%\n",
      "[0 1]\n",
      "[2 3]\n",
      "%%%%\n",
      "[0 3]\n",
      "[1 2]\n",
      "%%%%\n",
      "[1 2]\n",
      "[0 3]\n",
      "%%%%\n",
      "[1 4 6]\n",
      "&&&&\n",
      "[1 2]\n",
      "[0 3]\n",
      "%%%%\n",
      "[0 3]\n",
      "[1 2]\n",
      "%%%%\n",
      "[0 2]\n",
      "[1 3]\n",
      "%%%%\n",
      "[1 3]\n",
      "[0 2]\n",
      "%%%%\n",
      "[1 5 6]\n",
      "&&&&\n",
      "[2 3]\n",
      "[0 1]\n",
      "%%%%\n",
      "[0 1]\n",
      "[2 3]\n",
      "%%%%\n",
      "[0 1]\n",
      "[2 3]\n",
      "%%%%\n",
      "[2 3]\n",
      "[0 1]\n",
      "%%%%\n",
      "[2 3 4]\n",
      "&&&&\n",
      "[1 3]\n",
      "[0 2]\n",
      "%%%%\n",
      "[0 2]\n",
      "[1 3]\n",
      "%%%%\n",
      "[0 2]\n",
      "[1 3]\n",
      "%%%%\n",
      "[1 3]\n",
      "[0 2]\n",
      "%%%%\n",
      "[2 3 5]\n",
      "&&&&\n",
      "[0 3]\n",
      "[1 2]\n",
      "%%%%\n",
      "[1 2]\n",
      "[0 3]\n",
      "%%%%\n",
      "[0 2]\n",
      "[1 3]\n",
      "%%%%\n",
      "[1 3]\n",
      "[0 2]\n",
      "%%%%\n",
      "[2 3 6]\n",
      "&&&&\n",
      "[0 1]\n",
      "[2 3]\n",
      "%%%%\n",
      "[2 3]\n",
      "[0 1]\n",
      "%%%%\n",
      "[0 1]\n",
      "[2 3]\n",
      "%%%%\n",
      "[2 3]\n",
      "[0 1]\n",
      "%%%%\n",
      "[2 4 5]\n",
      "&&&&\n",
      "[0 2]\n",
      "[1 3]\n",
      "%%%%\n",
      "[1 3]\n",
      "[0 2]\n",
      "%%%%\n",
      "[1 2]\n",
      "[0 3]\n",
      "%%%%\n",
      "[0 3]\n",
      "[1 2]\n",
      "%%%%\n",
      "[2 4 6]\n",
      "&&&&\n",
      "[0 1]\n",
      "[2 3]\n",
      "%%%%\n",
      "[2 3]\n",
      "[0 1]\n",
      "%%%%\n",
      "[1 3]\n",
      "[0 2]\n",
      "%%%%\n",
      "[0 2]\n",
      "[1 3]\n",
      "%%%%\n",
      "[2 5 6]\n",
      "&&&&\n",
      "[0 1]\n",
      "[2 3]\n",
      "%%%%\n",
      "[2 3]\n",
      "[0 1]\n",
      "%%%%\n",
      "[0 1]\n",
      "[2 3]\n",
      "%%%%\n",
      "[2 3]\n",
      "[0 1]\n",
      "%%%%\n",
      "[3 4 5]\n",
      "&&&&\n",
      "[0 1]\n",
      "[2 3]\n",
      "%%%%\n",
      "[2 3]\n",
      "[0 1]\n",
      "%%%%\n",
      "[0 2]\n",
      "[1 3]\n",
      "%%%%\n",
      "[1 3]\n",
      "[0 2]\n",
      "%%%%\n",
      "[3 4 6]\n",
      "&&&&\n",
      "[1 2]\n",
      "[0 3]\n",
      "%%%%\n",
      "[0 3]\n",
      "[1 2]\n",
      "%%%%\n",
      "[2 3]\n",
      "[0 1]\n",
      "%%%%\n",
      "[0 1]\n",
      "[2 3]\n",
      "%%%%\n",
      "[3 5 6]\n",
      "&&&&\n",
      "[1 3]\n",
      "[0 2]\n",
      "%%%%\n",
      "[0 2]\n",
      "[1 3]\n",
      "%%%%\n",
      "[0 3]\n",
      "[1 2]\n",
      "%%%%\n",
      "[1 2]\n",
      "[0 3]\n",
      "%%%%\n",
      "[4 5 6]\n",
      "&&&&\n"
     ]
    }
   ],
   "source": [
    "for a , b in lpo.split(X):\n",
    "    for a1, b1 in rkf.split(a):\n",
    "        print(a1)\n",
    "        print(b1)\n",
    "        print('%%%%')\n",
    "    print(b)\n",
    "    print('&&&&')"
   ]
  },
  {
   "cell_type": "code",
   "execution_count": 145,
   "metadata": {},
   "outputs": [
    {
     "name": "stdout",
     "output_type": "stream",
     "text": [
      "[3 4 5 6]\n",
      "[0 1 2]\n",
      "&&&&\n",
      "[2 4 5 6]\n",
      "[0 1 3]\n",
      "&&&&\n",
      "[2 3 5 6]\n",
      "[0 1 4]\n",
      "&&&&\n",
      "[2 3 4 6]\n",
      "[0 1 5]\n",
      "&&&&\n",
      "[2 3 4 5]\n",
      "[0 1 6]\n",
      "&&&&\n",
      "[1 4 5 6]\n",
      "[0 2 3]\n",
      "&&&&\n",
      "[1 3 5 6]\n",
      "[0 2 4]\n",
      "&&&&\n",
      "[1 3 4 6]\n",
      "[0 2 5]\n",
      "&&&&\n",
      "[1 3 4 5]\n",
      "[0 2 6]\n",
      "&&&&\n",
      "[1 2 5 6]\n",
      "[0 3 4]\n",
      "&&&&\n",
      "[1 2 4 6]\n",
      "[0 3 5]\n",
      "&&&&\n",
      "[1 2 4 5]\n",
      "[0 3 6]\n",
      "&&&&\n",
      "[1 2 3 6]\n",
      "[0 4 5]\n",
      "&&&&\n",
      "[1 2 3 5]\n",
      "[0 4 6]\n",
      "&&&&\n",
      "[1 2 3 4]\n",
      "[0 5 6]\n",
      "&&&&\n",
      "[0 4 5 6]\n",
      "[1 2 3]\n",
      "&&&&\n",
      "[0 3 5 6]\n",
      "[1 2 4]\n",
      "&&&&\n",
      "[0 3 4 6]\n",
      "[1 2 5]\n",
      "&&&&\n",
      "[0 3 4 5]\n",
      "[1 2 6]\n",
      "&&&&\n",
      "[0 2 5 6]\n",
      "[1 3 4]\n",
      "&&&&\n",
      "[0 2 4 6]\n",
      "[1 3 5]\n",
      "&&&&\n",
      "[0 2 4 5]\n",
      "[1 3 6]\n",
      "&&&&\n",
      "[0 2 3 6]\n",
      "[1 4 5]\n",
      "&&&&\n",
      "[0 2 3 5]\n",
      "[1 4 6]\n",
      "&&&&\n",
      "[0 2 3 4]\n",
      "[1 5 6]\n",
      "&&&&\n",
      "[0 1 5 6]\n",
      "[2 3 4]\n",
      "&&&&\n",
      "[0 1 4 6]\n",
      "[2 3 5]\n",
      "&&&&\n",
      "[0 1 4 5]\n",
      "[2 3 6]\n",
      "&&&&\n",
      "[0 1 3 6]\n",
      "[2 4 5]\n",
      "&&&&\n",
      "[0 1 3 5]\n",
      "[2 4 6]\n",
      "&&&&\n",
      "[0 1 3 4]\n",
      "[2 5 6]\n",
      "&&&&\n",
      "[0 1 2 6]\n",
      "[3 4 5]\n",
      "&&&&\n",
      "[0 1 2 5]\n",
      "[3 4 6]\n",
      "&&&&\n",
      "[0 1 2 4]\n",
      "[3 5 6]\n",
      "&&&&\n",
      "[0 1 2 3]\n",
      "[4 5 6]\n",
      "&&&&\n"
     ]
    }
   ],
   "source": [
    "for a , b in lpo.split(X):\n",
    "    print(a)\n",
    "    print(b)\n",
    "    print('&&&&')"
   ]
  },
  {
   "cell_type": "markdown",
   "metadata": {},
   "source": [
    "## **``Shuffle Split``**\n",
    "##### **It is a better replacement of Kfold as it shuffles the data before splitting into the pairs of train and test sets.**"
   ]
  },
  {
   "cell_type": "code",
   "execution_count": 158,
   "metadata": {},
   "outputs": [],
   "source": [
    "from sklearn.model_selection import ShuffleSplit"
   ]
  },
  {
   "cell_type": "code",
   "execution_count": 160,
   "metadata": {},
   "outputs": [
    {
     "data": {
      "text/plain": [
       "['Ram', 'Rahul', 'Vishu', 'Raman', 'Jia', 'Jai', 'Jeetu']"
      ]
     },
     "execution_count": 160,
     "metadata": {},
     "output_type": "execute_result"
    }
   ],
   "source": [
    "X"
   ]
  },
  {
   "cell_type": "code",
   "execution_count": 159,
   "metadata": {},
   "outputs": [],
   "source": [
    "ss = ShuffleSplit(n_splits=3)"
   ]
  },
  {
   "cell_type": "code",
   "execution_count": 162,
   "metadata": {},
   "outputs": [
    {
     "name": "stdout",
     "output_type": "stream",
     "text": [
      "[1 5 6 0 2 3]\n",
      "[4]\n",
      "***\n",
      "[2 3 4 5 1 0]\n",
      "[6]\n",
      "***\n",
      "[5 0 4 6 1 3]\n",
      "[2]\n",
      "***\n"
     ]
    }
   ],
   "source": [
    "for a , b in ss.split(X):\n",
    "    print(a)\n",
    "    print(b)\n",
    "    print('***')"
   ]
  },
  {
   "cell_type": "code",
   "execution_count": 163,
   "metadata": {},
   "outputs": [],
   "source": [
    "X1 = np.random.randint(low=21,high=50,size=6)"
   ]
  },
  {
   "cell_type": "code",
   "execution_count": 164,
   "metadata": {},
   "outputs": [
    {
     "data": {
      "text/plain": [
       "array([33, 36, 32, 30, 47, 41])"
      ]
     },
     "execution_count": 164,
     "metadata": {},
     "output_type": "execute_result"
    }
   ],
   "source": [
    "X1"
   ]
  },
  {
   "cell_type": "code",
   "execution_count": 175,
   "metadata": {},
   "outputs": [],
   "source": [
    "ss1 = ShuffleSplit(n_splits=4, test_size=0.20,train_size=0.80)"
   ]
  },
  {
   "cell_type": "code",
   "execution_count": 176,
   "metadata": {},
   "outputs": [
    {
     "name": "stdout",
     "output_type": "stream",
     "text": [
      "[4 1 3 2]\n",
      "[0 5]\n",
      "@@@@\n",
      "[5 4 2 3]\n",
      "[0 1]\n",
      "@@@@\n",
      "[0 5 2 4]\n",
      "[3 1]\n",
      "@@@@\n",
      "[1 4 5 3]\n",
      "[0 2]\n",
      "@@@@\n"
     ]
    }
   ],
   "source": [
    "for a,b in ss1.split(X1):\n",
    "    print(a)\n",
    "    print(b)\n",
    "    print('@@@@')"
   ]
  },
  {
   "cell_type": "code",
   "execution_count": 177,
   "metadata": {},
   "outputs": [],
   "source": [
    "ss2 = ShuffleSplit(n_splits=2,test_size=0.40,train_size=0.60,random_state=33)"
   ]
  },
  {
   "cell_type": "code",
   "execution_count": 183,
   "metadata": {},
   "outputs": [
    {
     "name": "stdout",
     "output_type": "stream",
     "text": [
      "[2 0 4]\n",
      "[5 1 3]\n",
      "@@@@\n",
      "[2 3 1]\n",
      "[0 4 5]\n",
      "@@@@\n"
     ]
    }
   ],
   "source": [
    "for a,b in ss2.split(X1):\n",
    "    print(a)\n",
    "    print(b)\n",
    "    print('@@@@')"
   ]
  },
  {
   "cell_type": "code",
   "execution_count": 186,
   "metadata": {},
   "outputs": [],
   "source": [
    "import pandas as pd"
   ]
  },
  {
   "cell_type": "code",
   "execution_count": 193,
   "metadata": {},
   "outputs": [],
   "source": [
    "df = pd.DataFrame({'col1':['Sachin','Rahul','Saurav','Virat','Dhoni'],\n",
    "             'col2':['Steve','Ricky','Lara','Klusner','Warne'],\n",
    "              'Label':['Opener','Opener','Opener','Non-Opener','Non-Opener']})"
   ]
  },
  {
   "cell_type": "code",
   "execution_count": 194,
   "metadata": {},
   "outputs": [
    {
     "data": {
      "text/html": [
       "<div>\n",
       "<style scoped>\n",
       "    .dataframe tbody tr th:only-of-type {\n",
       "        vertical-align: middle;\n",
       "    }\n",
       "\n",
       "    .dataframe tbody tr th {\n",
       "        vertical-align: top;\n",
       "    }\n",
       "\n",
       "    .dataframe thead th {\n",
       "        text-align: right;\n",
       "    }\n",
       "</style>\n",
       "<table border=\"1\" class=\"dataframe\">\n",
       "  <thead>\n",
       "    <tr style=\"text-align: right;\">\n",
       "      <th></th>\n",
       "      <th>col1</th>\n",
       "      <th>col2</th>\n",
       "      <th>Label</th>\n",
       "    </tr>\n",
       "  </thead>\n",
       "  <tbody>\n",
       "    <tr>\n",
       "      <th>0</th>\n",
       "      <td>Sachin</td>\n",
       "      <td>Steve</td>\n",
       "      <td>Opener</td>\n",
       "    </tr>\n",
       "    <tr>\n",
       "      <th>1</th>\n",
       "      <td>Rahul</td>\n",
       "      <td>Ricky</td>\n",
       "      <td>Opener</td>\n",
       "    </tr>\n",
       "    <tr>\n",
       "      <th>2</th>\n",
       "      <td>Saurav</td>\n",
       "      <td>Lara</td>\n",
       "      <td>Opener</td>\n",
       "    </tr>\n",
       "    <tr>\n",
       "      <th>3</th>\n",
       "      <td>Virat</td>\n",
       "      <td>Klusner</td>\n",
       "      <td>Non-Opener</td>\n",
       "    </tr>\n",
       "    <tr>\n",
       "      <th>4</th>\n",
       "      <td>Dhoni</td>\n",
       "      <td>Warne</td>\n",
       "      <td>Non-Opener</td>\n",
       "    </tr>\n",
       "  </tbody>\n",
       "</table>\n",
       "</div>"
      ],
      "text/plain": [
       "     col1     col2       Label\n",
       "0  Sachin    Steve      Opener\n",
       "1   Rahul    Ricky      Opener\n",
       "2  Saurav     Lara      Opener\n",
       "3   Virat  Klusner  Non-Opener\n",
       "4   Dhoni    Warne  Non-Opener"
      ]
     },
     "execution_count": 194,
     "metadata": {},
     "output_type": "execute_result"
    }
   ],
   "source": [
    "df"
   ]
  },
  {
   "cell_type": "code",
   "execution_count": 195,
   "metadata": {},
   "outputs": [],
   "source": [
    "ss3 = ShuffleSplit(n_splits=2,test_size=0.20,train_size=0.80)"
   ]
  },
  {
   "cell_type": "code",
   "execution_count": 202,
   "metadata": {},
   "outputs": [
    {
     "name": "stdout",
     "output_type": "stream",
     "text": [
      "[3 1 4 0]\n",
      "[2]\n",
      "[2 3 4 1]\n",
      "[0]\n"
     ]
    }
   ],
   "source": [
    "df_train_indices = []\n",
    "df_test_indices = []\n",
    "\n",
    "for a , b in ss3.split(df[['col1','col2']]):\n",
    "    df_train_indices.append(a)\n",
    "    df_test_indices.append(b)\n",
    "    print(a)\n",
    "    print(b)"
   ]
  },
  {
   "cell_type": "code",
   "execution_count": 200,
   "metadata": {},
   "outputs": [
    {
     "data": {
      "text/plain": [
       "[array([0, 2, 1, 3]), array([4, 3, 1, 0])]"
      ]
     },
     "execution_count": 200,
     "metadata": {},
     "output_type": "execute_result"
    }
   ],
   "source": [
    "df_train_indices"
   ]
  },
  {
   "cell_type": "code",
   "execution_count": 201,
   "metadata": {},
   "outputs": [
    {
     "data": {
      "text/plain": [
       "[array([4]), array([2])]"
      ]
     },
     "execution_count": 201,
     "metadata": {},
     "output_type": "execute_result"
    }
   ],
   "source": [
    "df_test_indices"
   ]
  },
  {
   "cell_type": "code",
   "execution_count": null,
   "metadata": {},
   "outputs": [],
   "source": []
  },
  {
   "cell_type": "code",
   "execution_count": null,
   "metadata": {},
   "outputs": [],
   "source": []
  }
 ],
 "metadata": {
  "kernelspec": {
   "display_name": "Python 3",
   "language": "python",
   "name": "python3"
  },
  "language_info": {
   "codemirror_mode": {
    "name": "ipython",
    "version": 3
   },
   "file_extension": ".py",
   "mimetype": "text/x-python",
   "name": "python",
   "nbconvert_exporter": "python",
   "pygments_lexer": "ipython3",
   "version": "3.6.5"
  }
 },
 "nbformat": 4,
 "nbformat_minor": 2
}
